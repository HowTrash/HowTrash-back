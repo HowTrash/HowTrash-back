{
 "cells": [
  {
   "cell_type": "code",
   "execution_count": 3,
   "id": "a8212ca1",
   "metadata": {},
   "outputs": [
    {
     "data": {
      "text/plain": [
       "b'd59937c4-2b25-45e8-9a3b-1972c46ca213'"
      ]
     },
     "execution_count": 3,
     "metadata": {},
     "output_type": "execute_result"
    }
   ],
   "source": [
    "str = 'd59937c4-2b25-45e8-9a3b-1972c46ca213'\n",
    "str.encode('utf-8')"
   ]
  },
  {
   "cell_type": "code",
   "execution_count": null,
   "id": "cf24b344",
   "metadata": {},
   "outputs": [],
   "source": []
  }
 ],
 "metadata": {
  "kernelspec": {
   "display_name": "Python 3 (ipykernel)",
   "language": "python",
   "name": "python3"
  },
  "language_info": {
   "codemirror_mode": {
    "name": "ipython",
    "version": 3
   },
   "file_extension": ".py",
   "mimetype": "text/x-python",
   "name": "python",
   "nbconvert_exporter": "python",
   "pygments_lexer": "ipython3",
   "version": "3.10.2"
  }
 },
 "nbformat": 4,
 "nbformat_minor": 5
}
