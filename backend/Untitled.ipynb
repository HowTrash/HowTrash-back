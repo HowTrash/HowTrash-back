{
 "cells": [
  {
   "cell_type": "code",
   "execution_count": 1,
   "id": "0d104680",
   "metadata": {
    "pycharm": {
     "name": "#%%\n"
    }
   },
   "outputs": [
    {
     "ename": "ImproperlyConfigured",
     "evalue": "Set the IS_DEV environment variable",
     "output_type": "error",
     "traceback": [
      "\u001B[0;31m---------------------------------------------------------------------------\u001B[0m",
      "\u001B[0;31mKeyError\u001B[0m                                  Traceback (most recent call last)",
      "File \u001B[0;32m/Library/Frameworks/Python.framework/Versions/3.10/lib/python3.10/site-packages/environ/environ.py:403\u001B[0m, in \u001B[0;36mEnv.get_value\u001B[0;34m(self, var, cast, default, parse_default)\u001B[0m\n\u001B[1;32m    402\u001B[0m \u001B[38;5;28;01mtry\u001B[39;00m:\n\u001B[0;32m--> 403\u001B[0m     value \u001B[38;5;241m=\u001B[39m \u001B[38;5;28;43mself\u001B[39;49m\u001B[38;5;241;43m.\u001B[39;49m\u001B[43mENVIRON\u001B[49m\u001B[43m[\u001B[49m\u001B[43mvar_name\u001B[49m\u001B[43m]\u001B[49m\n\u001B[1;32m    404\u001B[0m \u001B[38;5;28;01mexcept\u001B[39;00m \u001B[38;5;167;01mKeyError\u001B[39;00m \u001B[38;5;28;01mas\u001B[39;00m exc:\n",
      "File \u001B[0;32m/Library/Frameworks/Python.framework/Versions/3.10/lib/python3.10/os.py:679\u001B[0m, in \u001B[0;36m_Environ.__getitem__\u001B[0;34m(self, key)\u001B[0m\n\u001B[1;32m    677\u001B[0m \u001B[38;5;28;01mexcept\u001B[39;00m \u001B[38;5;167;01mKeyError\u001B[39;00m:\n\u001B[1;32m    678\u001B[0m     \u001B[38;5;66;03m# raise KeyError with the original key value\u001B[39;00m\n\u001B[0;32m--> 679\u001B[0m     \u001B[38;5;28;01mraise\u001B[39;00m \u001B[38;5;167;01mKeyError\u001B[39;00m(key) \u001B[38;5;28;01mfrom\u001B[39;00m \u001B[38;5;28mNone\u001B[39m\n\u001B[1;32m    680\u001B[0m \u001B[38;5;28;01mreturn\u001B[39;00m \u001B[38;5;28mself\u001B[39m\u001B[38;5;241m.\u001B[39mdecodevalue(value)\n",
      "\u001B[0;31mKeyError\u001B[0m: 'IS_DEV'",
      "\nThe above exception was the direct cause of the following exception:\n",
      "\u001B[0;31mImproperlyConfigured\u001B[0m                      Traceback (most recent call last)",
      "Input \u001B[0;32mIn [1]\u001B[0m, in \u001B[0;36m<cell line: 6>\u001B[0;34m()\u001B[0m\n\u001B[1;32m      3\u001B[0m os\u001B[38;5;241m.\u001B[39menviron[\u001B[38;5;124m\"\u001B[39m\u001B[38;5;124mDJANGO_ALLOW_ASYNC_UNSAFE\u001B[39m\u001B[38;5;124m\"\u001B[39m] \u001B[38;5;241m=\u001B[39m \u001B[38;5;124m\"\u001B[39m\u001B[38;5;124mtrue\u001B[39m\u001B[38;5;124m\"\u001B[39m\n\u001B[1;32m      5\u001B[0m \u001B[38;5;28;01mimport\u001B[39;00m \u001B[38;5;21;01mdjango\u001B[39;00m\n\u001B[0;32m----> 6\u001B[0m \u001B[43mdjango\u001B[49m\u001B[38;5;241;43m.\u001B[39;49m\u001B[43msetup\u001B[49m\u001B[43m(\u001B[49m\u001B[43m)\u001B[49m\n",
      "File \u001B[0;32m/Library/Frameworks/Python.framework/Versions/3.10/lib/python3.10/site-packages/django/__init__.py:19\u001B[0m, in \u001B[0;36msetup\u001B[0;34m(set_prefix)\u001B[0m\n\u001B[1;32m     16\u001B[0m \u001B[38;5;28;01mfrom\u001B[39;00m \u001B[38;5;21;01mdjango\u001B[39;00m\u001B[38;5;21;01m.\u001B[39;00m\u001B[38;5;21;01murls\u001B[39;00m \u001B[38;5;28;01mimport\u001B[39;00m set_script_prefix\n\u001B[1;32m     17\u001B[0m \u001B[38;5;28;01mfrom\u001B[39;00m \u001B[38;5;21;01mdjango\u001B[39;00m\u001B[38;5;21;01m.\u001B[39;00m\u001B[38;5;21;01mutils\u001B[39;00m\u001B[38;5;21;01m.\u001B[39;00m\u001B[38;5;21;01mlog\u001B[39;00m \u001B[38;5;28;01mimport\u001B[39;00m configure_logging\n\u001B[0;32m---> 19\u001B[0m configure_logging(\u001B[43msettings\u001B[49m\u001B[38;5;241;43m.\u001B[39;49m\u001B[43mLOGGING_CONFIG\u001B[49m, settings\u001B[38;5;241m.\u001B[39mLOGGING)\n\u001B[1;32m     20\u001B[0m \u001B[38;5;28;01mif\u001B[39;00m set_prefix:\n\u001B[1;32m     21\u001B[0m     set_script_prefix(\n\u001B[1;32m     22\u001B[0m         \u001B[38;5;124m'\u001B[39m\u001B[38;5;124m/\u001B[39m\u001B[38;5;124m'\u001B[39m \u001B[38;5;28;01mif\u001B[39;00m settings\u001B[38;5;241m.\u001B[39mFORCE_SCRIPT_NAME \u001B[38;5;129;01mis\u001B[39;00m \u001B[38;5;28;01mNone\u001B[39;00m \u001B[38;5;28;01melse\u001B[39;00m settings\u001B[38;5;241m.\u001B[39mFORCE_SCRIPT_NAME\n\u001B[1;32m     23\u001B[0m     )\n",
      "File \u001B[0;32m/Library/Frameworks/Python.framework/Versions/3.10/lib/python3.10/site-packages/django/conf/__init__.py:84\u001B[0m, in \u001B[0;36mLazySettings.__getattr__\u001B[0;34m(self, name)\u001B[0m\n\u001B[1;32m     82\u001B[0m \u001B[38;5;124;03m\"\"\"Return the value of a setting and cache it in self.__dict__.\"\"\"\u001B[39;00m\n\u001B[1;32m     83\u001B[0m \u001B[38;5;28;01mif\u001B[39;00m \u001B[38;5;28mself\u001B[39m\u001B[38;5;241m.\u001B[39m_wrapped \u001B[38;5;129;01mis\u001B[39;00m empty:\n\u001B[0;32m---> 84\u001B[0m     \u001B[38;5;28;43mself\u001B[39;49m\u001B[38;5;241;43m.\u001B[39;49m\u001B[43m_setup\u001B[49m\u001B[43m(\u001B[49m\u001B[43mname\u001B[49m\u001B[43m)\u001B[49m\n\u001B[1;32m     85\u001B[0m val \u001B[38;5;241m=\u001B[39m \u001B[38;5;28mgetattr\u001B[39m(\u001B[38;5;28mself\u001B[39m\u001B[38;5;241m.\u001B[39m_wrapped, name)\n\u001B[1;32m     87\u001B[0m \u001B[38;5;66;03m# Special case some settings which require further modification.\u001B[39;00m\n\u001B[1;32m     88\u001B[0m \u001B[38;5;66;03m# This is done here for performance reasons so the modified value is cached.\u001B[39;00m\n",
      "File \u001B[0;32m/Library/Frameworks/Python.framework/Versions/3.10/lib/python3.10/site-packages/django/conf/__init__.py:71\u001B[0m, in \u001B[0;36mLazySettings._setup\u001B[0;34m(self, name)\u001B[0m\n\u001B[1;32m     64\u001B[0m     desc \u001B[38;5;241m=\u001B[39m (\u001B[38;5;124m\"\u001B[39m\u001B[38;5;124msetting \u001B[39m\u001B[38;5;132;01m%s\u001B[39;00m\u001B[38;5;124m\"\u001B[39m \u001B[38;5;241m%\u001B[39m name) \u001B[38;5;28;01mif\u001B[39;00m name \u001B[38;5;28;01melse\u001B[39;00m \u001B[38;5;124m\"\u001B[39m\u001B[38;5;124msettings\u001B[39m\u001B[38;5;124m\"\u001B[39m\n\u001B[1;32m     65\u001B[0m     \u001B[38;5;28;01mraise\u001B[39;00m ImproperlyConfigured(\n\u001B[1;32m     66\u001B[0m         \u001B[38;5;124m\"\u001B[39m\u001B[38;5;124mRequested \u001B[39m\u001B[38;5;132;01m%s\u001B[39;00m\u001B[38;5;124m, but settings are not configured. \u001B[39m\u001B[38;5;124m\"\u001B[39m\n\u001B[1;32m     67\u001B[0m         \u001B[38;5;124m\"\u001B[39m\u001B[38;5;124mYou must either define the environment variable \u001B[39m\u001B[38;5;132;01m%s\u001B[39;00m\u001B[38;5;124m \u001B[39m\u001B[38;5;124m\"\u001B[39m\n\u001B[1;32m     68\u001B[0m         \u001B[38;5;124m\"\u001B[39m\u001B[38;5;124mor call settings.configure() before accessing settings.\u001B[39m\u001B[38;5;124m\"\u001B[39m\n\u001B[1;32m     69\u001B[0m         \u001B[38;5;241m%\u001B[39m (desc, ENVIRONMENT_VARIABLE))\n\u001B[0;32m---> 71\u001B[0m \u001B[38;5;28mself\u001B[39m\u001B[38;5;241m.\u001B[39m_wrapped \u001B[38;5;241m=\u001B[39m \u001B[43mSettings\u001B[49m\u001B[43m(\u001B[49m\u001B[43msettings_module\u001B[49m\u001B[43m)\u001B[49m\n",
      "File \u001B[0;32m/Library/Frameworks/Python.framework/Versions/3.10/lib/python3.10/site-packages/django/conf/__init__.py:179\u001B[0m, in \u001B[0;36mSettings.__init__\u001B[0;34m(self, settings_module)\u001B[0m\n\u001B[1;32m    176\u001B[0m \u001B[38;5;66;03m# store the settings module in case someone later cares\u001B[39;00m\n\u001B[1;32m    177\u001B[0m \u001B[38;5;28mself\u001B[39m\u001B[38;5;241m.\u001B[39mSETTINGS_MODULE \u001B[38;5;241m=\u001B[39m settings_module\n\u001B[0;32m--> 179\u001B[0m mod \u001B[38;5;241m=\u001B[39m \u001B[43mimportlib\u001B[49m\u001B[38;5;241;43m.\u001B[39;49m\u001B[43mimport_module\u001B[49m\u001B[43m(\u001B[49m\u001B[38;5;28;43mself\u001B[39;49m\u001B[38;5;241;43m.\u001B[39;49m\u001B[43mSETTINGS_MODULE\u001B[49m\u001B[43m)\u001B[49m\n\u001B[1;32m    181\u001B[0m tuple_settings \u001B[38;5;241m=\u001B[39m (\n\u001B[1;32m    182\u001B[0m     \u001B[38;5;124m'\u001B[39m\u001B[38;5;124mALLOWED_HOSTS\u001B[39m\u001B[38;5;124m'\u001B[39m,\n\u001B[1;32m    183\u001B[0m     \u001B[38;5;124m\"\u001B[39m\u001B[38;5;124mINSTALLED_APPS\u001B[39m\u001B[38;5;124m\"\u001B[39m,\n\u001B[1;32m    184\u001B[0m     \u001B[38;5;124m\"\u001B[39m\u001B[38;5;124mTEMPLATE_DIRS\u001B[39m\u001B[38;5;124m\"\u001B[39m,\n\u001B[1;32m    185\u001B[0m     \u001B[38;5;124m\"\u001B[39m\u001B[38;5;124mLOCALE_PATHS\u001B[39m\u001B[38;5;124m\"\u001B[39m,\n\u001B[1;32m    186\u001B[0m )\n\u001B[1;32m    187\u001B[0m \u001B[38;5;28mself\u001B[39m\u001B[38;5;241m.\u001B[39m_explicit_settings \u001B[38;5;241m=\u001B[39m \u001B[38;5;28mset\u001B[39m()\n",
      "File \u001B[0;32m/Library/Frameworks/Python.framework/Versions/3.10/lib/python3.10/importlib/__init__.py:126\u001B[0m, in \u001B[0;36mimport_module\u001B[0;34m(name, package)\u001B[0m\n\u001B[1;32m    124\u001B[0m             \u001B[38;5;28;01mbreak\u001B[39;00m\n\u001B[1;32m    125\u001B[0m         level \u001B[38;5;241m+\u001B[39m\u001B[38;5;241m=\u001B[39m \u001B[38;5;241m1\u001B[39m\n\u001B[0;32m--> 126\u001B[0m \u001B[38;5;28;01mreturn\u001B[39;00m \u001B[43m_bootstrap\u001B[49m\u001B[38;5;241;43m.\u001B[39;49m\u001B[43m_gcd_import\u001B[49m\u001B[43m(\u001B[49m\u001B[43mname\u001B[49m\u001B[43m[\u001B[49m\u001B[43mlevel\u001B[49m\u001B[43m:\u001B[49m\u001B[43m]\u001B[49m\u001B[43m,\u001B[49m\u001B[43m \u001B[49m\u001B[43mpackage\u001B[49m\u001B[43m,\u001B[49m\u001B[43m \u001B[49m\u001B[43mlevel\u001B[49m\u001B[43m)\u001B[49m\n",
      "File \u001B[0;32m<frozen importlib._bootstrap>:1050\u001B[0m, in \u001B[0;36m_gcd_import\u001B[0;34m(name, package, level)\u001B[0m\n",
      "File \u001B[0;32m<frozen importlib._bootstrap>:1027\u001B[0m, in \u001B[0;36m_find_and_load\u001B[0;34m(name, import_)\u001B[0m\n",
      "File \u001B[0;32m<frozen importlib._bootstrap>:1006\u001B[0m, in \u001B[0;36m_find_and_load_unlocked\u001B[0;34m(name, import_)\u001B[0m\n",
      "File \u001B[0;32m<frozen importlib._bootstrap>:688\u001B[0m, in \u001B[0;36m_load_unlocked\u001B[0;34m(spec)\u001B[0m\n",
      "File \u001B[0;32m<frozen importlib._bootstrap_external>:883\u001B[0m, in \u001B[0;36mexec_module\u001B[0;34m(self, module)\u001B[0m\n",
      "File \u001B[0;32m<frozen importlib._bootstrap>:241\u001B[0m, in \u001B[0;36m_call_with_frames_removed\u001B[0;34m(f, *args, **kwds)\u001B[0m\n",
      "File \u001B[0;32m~/Desktop/dev/1.inProgress/HowTrash/backend/backend/settings.py:21\u001B[0m, in \u001B[0;36m<module>\u001B[0;34m\u001B[0m\n\u001B[1;32m     16\u001B[0m env \u001B[38;5;241m=\u001B[39m environ\u001B[38;5;241m.\u001B[39mEnv(DEBUG\u001B[38;5;241m=\u001B[39m(\u001B[38;5;28mbool\u001B[39m, \u001B[38;5;28;01mTrue\u001B[39;00m))\n\u001B[1;32m     17\u001B[0m environ\u001B[38;5;241m.\u001B[39mEnv\u001B[38;5;241m.\u001B[39mread_env(\n\u001B[1;32m     18\u001B[0m     env_file\u001B[38;5;241m=\u001B[39mos\u001B[38;5;241m.\u001B[39mpath\u001B[38;5;241m.\u001B[39mjoin(BASE_DIR, \u001B[38;5;124m'\u001B[39m\u001B[38;5;124mdb.env\u001B[39m\u001B[38;5;124m'\u001B[39m)\n\u001B[1;32m     19\u001B[0m )\n\u001B[0;32m---> 21\u001B[0m \u001B[38;5;28;01mif\u001B[39;00m \u001B[43menv\u001B[49m\u001B[43m(\u001B[49m\u001B[38;5;124;43m'\u001B[39;49m\u001B[38;5;124;43mIS_DEV\u001B[39;49m\u001B[38;5;124;43m'\u001B[39;49m\u001B[43m)\u001B[49m:\n\u001B[1;32m     22\u001B[0m     SECRET_KEY \u001B[38;5;241m=\u001B[39m env(\u001B[38;5;124m'\u001B[39m\u001B[38;5;124mSECRET_KEY\u001B[39m\u001B[38;5;124m'\u001B[39m)\n\u001B[1;32m     23\u001B[0m     DB_URL \u001B[38;5;241m=\u001B[39m \u001B[38;5;124m'\u001B[39m\u001B[38;5;124mlocalhost:8989\u001B[39m\u001B[38;5;124m'\u001B[39m\n",
      "File \u001B[0;32m/Library/Frameworks/Python.framework/Versions/3.10/lib/python3.10/site-packages/environ/environ.py:197\u001B[0m, in \u001B[0;36mEnv.__call__\u001B[0;34m(self, var, cast, default, parse_default)\u001B[0m\n\u001B[1;32m    196\u001B[0m \u001B[38;5;28;01mdef\u001B[39;00m \u001B[38;5;21m__call__\u001B[39m(\u001B[38;5;28mself\u001B[39m, var, cast\u001B[38;5;241m=\u001B[39m\u001B[38;5;28;01mNone\u001B[39;00m, default\u001B[38;5;241m=\u001B[39mNOTSET, parse_default\u001B[38;5;241m=\u001B[39m\u001B[38;5;28;01mFalse\u001B[39;00m):\n\u001B[0;32m--> 197\u001B[0m     \u001B[38;5;28;01mreturn\u001B[39;00m \u001B[38;5;28;43mself\u001B[39;49m\u001B[38;5;241;43m.\u001B[39;49m\u001B[43mget_value\u001B[49m\u001B[43m(\u001B[49m\n\u001B[1;32m    198\u001B[0m \u001B[43m        \u001B[49m\u001B[43mvar\u001B[49m\u001B[43m,\u001B[49m\n\u001B[1;32m    199\u001B[0m \u001B[43m        \u001B[49m\u001B[43mcast\u001B[49m\u001B[38;5;241;43m=\u001B[39;49m\u001B[43mcast\u001B[49m\u001B[43m,\u001B[49m\n\u001B[1;32m    200\u001B[0m \u001B[43m        \u001B[49m\u001B[43mdefault\u001B[49m\u001B[38;5;241;43m=\u001B[39;49m\u001B[43mdefault\u001B[49m\u001B[43m,\u001B[49m\n\u001B[1;32m    201\u001B[0m \u001B[43m        \u001B[49m\u001B[43mparse_default\u001B[49m\u001B[38;5;241;43m=\u001B[39;49m\u001B[43mparse_default\u001B[49m\n\u001B[1;32m    202\u001B[0m \u001B[43m    \u001B[49m\u001B[43m)\u001B[49m\n",
      "File \u001B[0;32m/Library/Frameworks/Python.framework/Versions/3.10/lib/python3.10/site-packages/environ/environ.py:407\u001B[0m, in \u001B[0;36mEnv.get_value\u001B[0;34m(self, var, cast, default, parse_default)\u001B[0m\n\u001B[1;32m    405\u001B[0m     \u001B[38;5;28;01mif\u001B[39;00m default \u001B[38;5;129;01mis\u001B[39;00m \u001B[38;5;28mself\u001B[39m\u001B[38;5;241m.\u001B[39mNOTSET:\n\u001B[1;32m    406\u001B[0m         error_msg \u001B[38;5;241m=\u001B[39m \u001B[38;5;124m\"\u001B[39m\u001B[38;5;124mSet the \u001B[39m\u001B[38;5;132;01m{}\u001B[39;00m\u001B[38;5;124m environment variable\u001B[39m\u001B[38;5;124m\"\u001B[39m\u001B[38;5;241m.\u001B[39mformat(var)\n\u001B[0;32m--> 407\u001B[0m         \u001B[38;5;28;01mraise\u001B[39;00m ImproperlyConfigured(error_msg) \u001B[38;5;28;01mfrom\u001B[39;00m \u001B[38;5;21;01mexc\u001B[39;00m\n\u001B[1;32m    409\u001B[0m     value \u001B[38;5;241m=\u001B[39m default\n\u001B[1;32m    411\u001B[0m \u001B[38;5;66;03m# Resolve any proxied values\u001B[39;00m\n",
      "\u001B[0;31mImproperlyConfigured\u001B[0m: Set the IS_DEV environment variable"
     ]
    }
   ],
   "source": [
    "import os\n",
    "os.environ['DJANGO_SETTINGS_MODULE'] = \"backend.settings\"\n",
    "os.environ[\"DJANGO_ALLOW_ASYNC_UNSAFE\"] = \"true\"\n",
    "\n",
    "import django\n",
    "django.setup()"
   ]
  },
  {
   "cell_type": "code",
   "execution_count": null,
   "outputs": [],
   "source": [
    "from django.http import HttpResponse, JsonResponse\n",
    "from django.core import serializers\n",
    "\n",
    "from rebikeuser.serializers import UserSerializer\n",
    "from rebikeuser.userUtil import user_find_by_name, user_compPW, user_create_client, user_change_pw, user_change_alias\n",
    "\n",
    "def user_login():\n",
    "    input_id = 'client1'\n",
    "    input_pw = '1234'\n",
    "\n",
    "    if input_pw != '' and input_id != '':\n",
    "        user = user_find_by_name(input_id).first()\n",
    "        print(1)\n",
    "        if user:\n",
    "            is_login = user_compPW(input_pw, user)\n",
    "            print(2)\n",
    "            if is_login:\n",
    "                user_data = UserSerializer(user)\n",
    "                print(3)\n",
    "\n",
    "                result = {\n",
    "                    'user': user_data.data,\n",
    "                    'is_login': is_login,\n",
    "                }\n",
    "                return result\n",
    "\n",
    "    return False\n",
    "\n",
    "print(user_login())"
   ],
   "metadata": {
    "collapsed": false,
    "pycharm": {
     "name": "#%%\n"
    }
   }
  },
  {
   "cell_type": "code",
   "execution_count": null,
   "outputs": [],
   "source": [
    "hello = True\n",
    "print(\n",
    "    if hello:\n",
    "        return'sorry'\n",
    "    return 'hello'\n",
    ")\n"
   ],
   "metadata": {
    "collapsed": false,
    "pycharm": {
     "name": "#%%\n"
    }
   }
  },
  {
   "cell_type": "code",
   "execution_count": null,
   "id": "f50149c1",
   "metadata": {},
   "outputs": [],
   "source": []
  }
 ],
 "metadata": {
  "kernelspec": {
   "display_name": "Python 3 (ipykernel)",
   "language": "python",
   "name": "python3"
  },
  "language_info": {
   "codemirror_mode": {
    "name": "ipython",
    "version": 3
   },
   "file_extension": ".py",
   "mimetype": "text/x-python",
   "name": "python",
   "nbconvert_exporter": "python",
   "pygments_lexer": "ipython3",
   "version": "3.10.2"
  }
 },
 "nbformat": 4,
 "nbformat_minor": 5
}