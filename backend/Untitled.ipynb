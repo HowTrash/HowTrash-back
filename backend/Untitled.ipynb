{
 "cells": [
  {
   "cell_type": "code",
   "execution_count": 2,
   "id": "0d104680",
   "metadata": {
    "pycharm": {
     "name": "#%%\n"
    }
   },
   "outputs": [],
   "source": [
    "import os\n",
    "os.environ['DJANGO_SETTINGS_MODULE'] = \"backend.settings\"\n",
    "os.environ[\"DJANGO_ALLOW_ASYNC_UNSAFE\"] = \"true\"\n",
    "\n",
    "import django\n",
    "django.setup()"
   ]
  },
  {
   "cell_type": "code",
   "execution_count": 12,
   "id": "955510d4",
   "metadata": {},
   "outputs": [
    {
     "name": "stdout",
     "output_type": "stream",
     "text": [
      "1\n",
      "2\n",
      "3\n",
      "{'user': {'name': 'client1', 'alias': 'client1', 'email': 'client1@test.com'}, 'is_login': True}\n"
     ]
    }
   ],
   "source": [
    "from django.http import HttpResponse, JsonResponse\n",
    "from django.core import serializers\n",
    "\n",
    "from rebikeuser.serializers import UserSerializer\n",
    "from rebikeuser.userUtil import user_find_by_name, user_compPW, user_create_client, user_change_pw, user_change_alias\n",
    "\n",
    "def user_login():\n",
    "    input_id = 'client1'\n",
    "    input_pw = '1234'\n",
    "\n",
    "    if input_pw != '' and input_id != '':\n",
    "        user = user_find_by_name(input_id).first()\n",
    "        print(1)\n",
    "        if user:\n",
    "            is_login = user_compPW(input_pw, user)\n",
    "            print(2)\n",
    "            if is_login:\n",
    "                user_data = UserSerializer(user)\n",
    "                print(3)\n",
    "\n",
    "                result = {\n",
    "                    'user': user_data.data,\n",
    "                    'is_login': is_login,\n",
    "                }\n",
    "                return result\n",
    "\n",
    "    return False\n",
    "\n",
    "print(user_login())"
   ]
  },
  {
   "cell_type": "code",
   "execution_count": null,
   "id": "a0b06a11",
   "metadata": {},
   "outputs": [],
   "source": []
  }
 ],
 "metadata": {
  "kernelspec": {
   "display_name": "Python 3 (ipykernel)",
   "language": "python",
   "name": "python3"
  },
  "language_info": {
   "codemirror_mode": {
    "name": "ipython",
    "version": 3
   },
   "file_extension": ".py",
   "mimetype": "text/x-python",
   "name": "python",
   "nbconvert_exporter": "python",
   "pygments_lexer": "ipython3",
   "version": "3.10.2"
  }
 },
 "nbformat": 4,
 "nbformat_minor": 5
}
